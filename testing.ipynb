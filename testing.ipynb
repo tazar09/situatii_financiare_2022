{
  "nbformat": 4,
  "nbformat_minor": 0,
  "metadata": {
    "colab": {
      "provenance": [],
      "authorship_tag": "ABX9TyP/8gbL6JWxitasbCyApwTN",
      "include_colab_link": true
    },
    "kernelspec": {
      "name": "python3",
      "display_name": "Python 3"
    },
    "language_info": {
      "name": "python"
    }
  },
  "cells": [
    {
      "cell_type": "markdown",
      "metadata": {
        "id": "view-in-github",
        "colab_type": "text"
      },
      "source": [
        "<a href=\"https://colab.research.google.com/github/tazar09/situatii_financiare_2022/blob/main/testing.ipynb\" target=\"_parent\"><img src=\"https://colab.research.google.com/assets/colab-badge.svg\" alt=\"Open In Colab\"/></a>"
      ]
    },
    {
      "cell_type": "code",
      "source": [
        "import pandas as pd\n",
        "import numpy as np\n",
        "import re"
      ],
      "metadata": {
        "id": "0IMuUkoEJvHV"
      },
      "execution_count": null,
      "outputs": []
    },
    {
      "cell_type": "code",
      "source": [
        "#Import situatii financiare dataframe\n",
        "url_web_bl_bs_2022 = 'https://data.gov.ro/dataset/aa2567a4-e7d7-4e6e-ab19-d08d39f99996/resource/b35fab04-f101-42d7-a765-8f41728b373a/download/web_bl_bs_sl_an2022.txt'\n",
        "df = pd.read_csv(url_web_bl_bs_2022)"
      ],
      "metadata": {
        "id": "vOz4DXDUoU3y"
      },
      "execution_count": null,
      "outputs": []
    },
    {
      "cell_type": "code",
      "source": [],
      "metadata": {
        "id": "hqbFMWxzvynu"
      },
      "execution_count": null,
      "outputs": []
    },
    {
      "cell_type": "code",
      "source": [
        "#Import coloane dataframe\n",
        "url_coloane_2022 = 'https://data.gov.ro/dataset/aa2567a4-e7d7-4e6e-ab19-d08d39f99996/resource/0079a6b0-0a5a-4be9-a26a-857449f41c25/download/web_bl_bs_sl_an2022.csv'\n",
        "coloane = pd.read_csv(url_coloane_2022)"
      ],
      "metadata": {
        "id": "zEOW_yspo0BC"
      },
      "execution_count": null,
      "outputs": []
    },
    {
      "cell_type": "code",
      "source": [
        "list_ind = list(coloane['CUI;CUI'])\n",
        "list_ind.insert(0, 'CUI')\n",
        "len(list_ind)"
      ],
      "metadata": {
        "id": "1HYOUkRtvyEn"
      },
      "execution_count": null,
      "outputs": []
    },
    {
      "cell_type": "code",
      "source": [
        "df.columns = list_ind\n",
        "df.columns"
      ],
      "metadata": {
        "id": "HT0bxaukwTZv"
      },
      "execution_count": null,
      "outputs": []
    },
    {
      "cell_type": "code",
      "source": [
        "columns_names = list(df.columns)"
      ],
      "metadata": {
        "id": "5gAIemjqwGL3"
      },
      "execution_count": null,
      "outputs": []
    },
    {
      "cell_type": "code",
      "source": [
        "# Regex pattern\n",
        "regex = r';i\\d{1,2}$'\n",
        "\n",
        "# Apply the regex pattern to the column names\n",
        "new_column_names = []\n",
        "for column_name in columns_names:\n",
        "    new_column_name = re.sub(regex, '', column_name)\n",
        "    new_column_names.append(new_column_name)"
      ],
      "metadata": {
        "id": "j766TyfXv3If"
      },
      "execution_count": null,
      "outputs": []
    },
    {
      "cell_type": "code",
      "source": [
        "df.columns = new_column_names\n",
        "df.columns = df.columns.str.lower()"
      ],
      "metadata": {
        "id": "6MhVL1XqwEJe"
      },
      "execution_count": null,
      "outputs": []
    },
    {
      "cell_type": "code",
      "source": [
        "df.columns"
      ],
      "metadata": {
        "id": "z959joqGwfRg"
      },
      "execution_count": null,
      "outputs": []
    },
    {
      "cell_type": "code",
      "source": [
        "df.columns = ['cui', 'caen', 'active imobilizate - total',\n",
        "       'active circulante - total din care:', 'stocuri', 'creante',\n",
        "       'casa si conturi la banci', 'cheltuieli in avans', 'datorii',\n",
        "       'venituri in avans', 'provizioane', 'capitaluri - total din care:',\n",
        "       'capital subscris varsat', 'patrimoniul regiei',\n",
        "       'cifra de afaceri neta', 'venituri totale', 'cheltuieli totale',\n",
        "       'profitul brut', 'pierdere bruta', 'profitul net', 'pierdere neta',\n",
        "       'numar mediu de salariati']"
      ],
      "metadata": {
        "id": "SbUIgmKgvlTu"
      },
      "execution_count": null,
      "outputs": []
    },
    {
      "cell_type": "code",
      "source": [
        "#Import lista platitori\n",
        "url_platitori = '/content/date_identificar_platitori_2023_txt..txt'\n",
        "lista_platitori = pd.read_csv(url_platitori, sep = '|', on_bad_lines='skip')"
      ],
      "metadata": {
        "colab": {
          "base_uri": "https://localhost:8080/"
        },
        "id": "_jo118tipmFV",
        "outputId": "955cbce4-b457-46c5-89a3-b88fd611ff0a"
      },
      "execution_count": null,
      "outputs": [
        {
          "output_type": "stream",
          "name": "stderr",
          "text": [
            "<ipython-input-69-9bc90555c448>:3: DtypeWarning: Columns (2,10,11,14,15,18,19) have mixed types. Specify dtype option on import or set low_memory=False.\n",
            "  lista_platitori = pd.read_csv(url_platitori, sep = '|', on_bad_lines='skip')\n"
          ]
        }
      ]
    },
    {
      "cell_type": "code",
      "source": [
        "lista_platitori.reset_index(inplace = True)"
      ],
      "metadata": {
        "id": "e_4Iek95vjzg"
      },
      "execution_count": null,
      "outputs": []
    },
    {
      "cell_type": "code",
      "source": [
        "lista_platitori.columns = ['COD_FISCAL', 'DENUMIRE', 'COD_FISCAL_PARINTE', 'TIP_UNITATE',\n",
        "       'TIP_CONTRIB', 'LOCALITATE', 'STRADA', 'NR', 'DATA_INREGISTRARE',\n",
        "       'DATA_PRELUCRARE', 'FAX', 'SECTOR', 'TELEFON', 'JUDET_COMERT',\n",
        "       'NR_COMERT', 'AN_COMERT', 'ACT_AUTORIZARE', 'TVA', 'DATA_RADIERE',\n",
        "       'COD_POSTAL', 'DATA_STARE', 'STARE', 'JUDET', 'IMP100', 'IMP120',\n",
        "       'IMP130', 'IMP160', 'ACCIZE200', 'CONT410', 'CONT412', 'CONT416',\n",
        "       'CONT420', 'CONT423', 'CONT430', 'CONT432', 'IMP439', 'IMP451',\n",
        "       'IMP461', 'IMP473', 'IMP474', 'CONT480', 'IMP500', 'IMP602', 'IMP611',\n",
        "       'IMP625', 'IMP632', 'IMP633', 'IMP634', 'IMP701', 'IMP710', 'IMP711',\n",
        "       'IMP712', 'IMP713', 'IMP755', 'IMP756', 'IMP940', 'DETALII_ADRESA',\n",
        "       'BLOC', 'SCARA', 'ETAJ', 'AP', 'empty']"
      ],
      "metadata": {
        "id": "ip_ak5Hdvj2R"
      },
      "execution_count": null,
      "outputs": []
    },
    {
      "cell_type": "code",
      "source": [
        "lista_platitori.shape"
      ],
      "metadata": {
        "colab": {
          "base_uri": "https://localhost:8080/"
        },
        "id": "t-Xi9ffsvj5J",
        "outputId": "5728b002-f089-4af4-cabf-0129160150b5"
      },
      "execution_count": null,
      "outputs": [
        {
          "output_type": "execute_result",
          "data": {
            "text/plain": [
              "(2052583, 62)"
            ]
          },
          "metadata": {},
          "execution_count": 73
        }
      ]
    },
    {
      "cell_type": "code",
      "source": [],
      "metadata": {
        "id": "niXDYD2TwZJv"
      },
      "execution_count": null,
      "outputs": []
    },
    {
      "cell_type": "code",
      "source": [
        "#Import cod impozit dataframe\n",
        "url_cod = '/content/cod_impozit.xlsx'\n",
        "lista_impozite = pd.read_excel(url_cod)\n",
        "lista_impozite['COD_IMP'] = 'IMP' + lista_impozite['COD_IMP'].astype(str)"
      ],
      "metadata": {
        "id": "S2_bR7sYmNXW"
      },
      "execution_count": null,
      "outputs": []
    },
    {
      "cell_type": "code",
      "source": [],
      "metadata": {
        "id": "4QTq9CMEHlxu"
      },
      "execution_count": null,
      "outputs": []
    },
    {
      "cell_type": "code",
      "source": [
        "git remote add origin https://github.com/tazar09/situatii_financiare_2022.git\n",
        "git branch -M main\n",
        "git push -u origin main"
      ],
      "metadata": {
        "id": "BSnOMYBNyTNx",
        "colab": {
          "base_uri": "https://localhost:8080/",
          "height": 140
        },
        "outputId": "013a6a9e-f58e-40a6-ff34-5252109a2a7f"
      },
      "execution_count": 3,
      "outputs": [
        {
          "output_type": "error",
          "ename": "SyntaxError",
          "evalue": "ignored",
          "traceback": [
            "\u001b[0;36m  File \u001b[0;32m\"<ipython-input-3-ad79664fbfcf>\"\u001b[0;36m, line \u001b[0;32m1\u001b[0m\n\u001b[0;31m    git remote add origin https://github.com/tazar09/situatii_financiare_2022.git\u001b[0m\n\u001b[0m        ^\u001b[0m\n\u001b[0;31mSyntaxError\u001b[0m\u001b[0;31m:\u001b[0m invalid syntax\n"
          ]
        }
      ]
    },
    {
      "cell_type": "code",
      "source": [],
      "metadata": {
        "id": "T1hEraEY42TA"
      },
      "execution_count": null,
      "outputs": []
    },
    {
      "cell_type": "code",
      "source": [],
      "metadata": {
        "id": "kfEAgvXm42fT"
      },
      "execution_count": null,
      "outputs": []
    },
    {
      "cell_type": "code",
      "source": [],
      "metadata": {
        "id": "SMFaaiXCpyLP"
      },
      "execution_count": null,
      "outputs": []
    },
    {
      "cell_type": "code",
      "source": [],
      "metadata": {
        "id": "DgbAgeCYcCDI"
      },
      "execution_count": null,
      "outputs": []
    },
    {
      "cell_type": "code",
      "source": [
        "#TESTE"
      ],
      "metadata": {
        "id": "pmkcgNcedGic"
      },
      "execution_count": null,
      "outputs": []
    },
    {
      "cell_type": "code",
      "source": [
        "df1 = df[['cui', 'caen', 'active imobilizate - total',\n",
        "       'active circulante - total din care:', 'datorii',\n",
        "       'capitaluri - total din care:',\n",
        "       'capital subscris varsat', 'patrimoniul regiei',\n",
        "       'cifra de afaceri neta',\n",
        "       'profitul brut', 'pierdere bruta', 'profitul net', 'pierdere neta',\n",
        "       'numar mediu de salariati']]"
      ],
      "metadata": {
        "id": "rsUxfSkKr-KQ"
      },
      "execution_count": null,
      "outputs": []
    },
    {
      "cell_type": "code",
      "source": [
        "df2 = df1[['cui', 'caen','numar mediu de salariati']].sort_values('numar mediu de salariati', ascending = False).head(20)"
      ],
      "metadata": {
        "id": "OCCL_JT3sY60"
      },
      "execution_count": null,
      "outputs": []
    },
    {
      "cell_type": "code",
      "source": [
        "df2.head(10)"
      ],
      "metadata": {
        "colab": {
          "base_uri": "https://localhost:8080/",
          "height": 363
        },
        "id": "LM96omhvtDUK",
        "outputId": "14657d1c-81e9-49ba-ca41-f5e21fe79bdc"
      },
      "execution_count": null,
      "outputs": [
        {
          "output_type": "execute_result",
          "data": {
            "text/plain": [
              "            cui  caen  numar mediu de salariati\n",
              "22491  40256068  4120                   19216.0\n",
              "5834    1590120   210                   14262.0\n",
              "76217  15991149  4711                   13827.0\n",
              "5980   11607939  4711                   13714.0\n",
              "55168  47080235  6201                   12517.0\n",
              "6342    2816464  4752                   12245.0\n",
              "5230     160796  2910                   12195.0\n",
              "6058    6719278  4711                   10618.0\n",
              "5833    1589886  4931                   10179.0\n",
              "76446  22891860  4711                   10086.0"
            ],
            "text/html": [
              "\n",
              "  <div id=\"df-09e88496-6e41-40c3-b300-bf31a9c446a1\" class=\"colab-df-container\">\n",
              "    <div>\n",
              "<style scoped>\n",
              "    .dataframe tbody tr th:only-of-type {\n",
              "        vertical-align: middle;\n",
              "    }\n",
              "\n",
              "    .dataframe tbody tr th {\n",
              "        vertical-align: top;\n",
              "    }\n",
              "\n",
              "    .dataframe thead th {\n",
              "        text-align: right;\n",
              "    }\n",
              "</style>\n",
              "<table border=\"1\" class=\"dataframe\">\n",
              "  <thead>\n",
              "    <tr style=\"text-align: right;\">\n",
              "      <th></th>\n",
              "      <th>cui</th>\n",
              "      <th>caen</th>\n",
              "      <th>numar mediu de salariati</th>\n",
              "    </tr>\n",
              "  </thead>\n",
              "  <tbody>\n",
              "    <tr>\n",
              "      <th>22491</th>\n",
              "      <td>40256068</td>\n",
              "      <td>4120</td>\n",
              "      <td>19216.0</td>\n",
              "    </tr>\n",
              "    <tr>\n",
              "      <th>5834</th>\n",
              "      <td>1590120</td>\n",
              "      <td>210</td>\n",
              "      <td>14262.0</td>\n",
              "    </tr>\n",
              "    <tr>\n",
              "      <th>76217</th>\n",
              "      <td>15991149</td>\n",
              "      <td>4711</td>\n",
              "      <td>13827.0</td>\n",
              "    </tr>\n",
              "    <tr>\n",
              "      <th>5980</th>\n",
              "      <td>11607939</td>\n",
              "      <td>4711</td>\n",
              "      <td>13714.0</td>\n",
              "    </tr>\n",
              "    <tr>\n",
              "      <th>55168</th>\n",
              "      <td>47080235</td>\n",
              "      <td>6201</td>\n",
              "      <td>12517.0</td>\n",
              "    </tr>\n",
              "    <tr>\n",
              "      <th>6342</th>\n",
              "      <td>2816464</td>\n",
              "      <td>4752</td>\n",
              "      <td>12245.0</td>\n",
              "    </tr>\n",
              "    <tr>\n",
              "      <th>5230</th>\n",
              "      <td>160796</td>\n",
              "      <td>2910</td>\n",
              "      <td>12195.0</td>\n",
              "    </tr>\n",
              "    <tr>\n",
              "      <th>6058</th>\n",
              "      <td>6719278</td>\n",
              "      <td>4711</td>\n",
              "      <td>10618.0</td>\n",
              "    </tr>\n",
              "    <tr>\n",
              "      <th>5833</th>\n",
              "      <td>1589886</td>\n",
              "      <td>4931</td>\n",
              "      <td>10179.0</td>\n",
              "    </tr>\n",
              "    <tr>\n",
              "      <th>76446</th>\n",
              "      <td>22891860</td>\n",
              "      <td>4711</td>\n",
              "      <td>10086.0</td>\n",
              "    </tr>\n",
              "  </tbody>\n",
              "</table>\n",
              "</div>\n",
              "    <div class=\"colab-df-buttons\">\n",
              "\n",
              "  <div class=\"colab-df-container\">\n",
              "    <button class=\"colab-df-convert\" onclick=\"convertToInteractive('df-09e88496-6e41-40c3-b300-bf31a9c446a1')\"\n",
              "            title=\"Convert this dataframe to an interactive table.\"\n",
              "            style=\"display:none;\">\n",
              "\n",
              "  <svg xmlns=\"http://www.w3.org/2000/svg\" height=\"24px\" viewBox=\"0 -960 960 960\">\n",
              "    <path d=\"M120-120v-720h720v720H120Zm60-500h600v-160H180v160Zm220 220h160v-160H400v160Zm0 220h160v-160H400v160ZM180-400h160v-160H180v160Zm440 0h160v-160H620v160ZM180-180h160v-160H180v160Zm440 0h160v-160H620v160Z\"/>\n",
              "  </svg>\n",
              "    </button>\n",
              "\n",
              "  <style>\n",
              "    .colab-df-container {\n",
              "      display:flex;\n",
              "      gap: 12px;\n",
              "    }\n",
              "\n",
              "    .colab-df-convert {\n",
              "      background-color: #E8F0FE;\n",
              "      border: none;\n",
              "      border-radius: 50%;\n",
              "      cursor: pointer;\n",
              "      display: none;\n",
              "      fill: #1967D2;\n",
              "      height: 32px;\n",
              "      padding: 0 0 0 0;\n",
              "      width: 32px;\n",
              "    }\n",
              "\n",
              "    .colab-df-convert:hover {\n",
              "      background-color: #E2EBFA;\n",
              "      box-shadow: 0px 1px 2px rgba(60, 64, 67, 0.3), 0px 1px 3px 1px rgba(60, 64, 67, 0.15);\n",
              "      fill: #174EA6;\n",
              "    }\n",
              "\n",
              "    .colab-df-buttons div {\n",
              "      margin-bottom: 4px;\n",
              "    }\n",
              "\n",
              "    [theme=dark] .colab-df-convert {\n",
              "      background-color: #3B4455;\n",
              "      fill: #D2E3FC;\n",
              "    }\n",
              "\n",
              "    [theme=dark] .colab-df-convert:hover {\n",
              "      background-color: #434B5C;\n",
              "      box-shadow: 0px 1px 3px 1px rgba(0, 0, 0, 0.15);\n",
              "      filter: drop-shadow(0px 1px 2px rgba(0, 0, 0, 0.3));\n",
              "      fill: #FFFFFF;\n",
              "    }\n",
              "  </style>\n",
              "\n",
              "    <script>\n",
              "      const buttonEl =\n",
              "        document.querySelector('#df-09e88496-6e41-40c3-b300-bf31a9c446a1 button.colab-df-convert');\n",
              "      buttonEl.style.display =\n",
              "        google.colab.kernel.accessAllowed ? 'block' : 'none';\n",
              "\n",
              "      async function convertToInteractive(key) {\n",
              "        const element = document.querySelector('#df-09e88496-6e41-40c3-b300-bf31a9c446a1');\n",
              "        const dataTable =\n",
              "          await google.colab.kernel.invokeFunction('convertToInteractive',\n",
              "                                                    [key], {});\n",
              "        if (!dataTable) return;\n",
              "\n",
              "        const docLinkHtml = 'Like what you see? Visit the ' +\n",
              "          '<a target=\"_blank\" href=https://colab.research.google.com/notebooks/data_table.ipynb>data table notebook</a>'\n",
              "          + ' to learn more about interactive tables.';\n",
              "        element.innerHTML = '';\n",
              "        dataTable['output_type'] = 'display_data';\n",
              "        await google.colab.output.renderOutput(dataTable, element);\n",
              "        const docLink = document.createElement('div');\n",
              "        docLink.innerHTML = docLinkHtml;\n",
              "        element.appendChild(docLink);\n",
              "      }\n",
              "    </script>\n",
              "  </div>\n",
              "\n",
              "\n",
              "<div id=\"df-a016bbd4-1909-4987-bc49-c20b6017cb98\">\n",
              "  <button class=\"colab-df-quickchart\" onclick=\"quickchart('df-a016bbd4-1909-4987-bc49-c20b6017cb98')\"\n",
              "            title=\"Suggest charts.\"\n",
              "            style=\"display:none;\">\n",
              "\n",
              "<svg xmlns=\"http://www.w3.org/2000/svg\" height=\"24px\"viewBox=\"0 0 24 24\"\n",
              "     width=\"24px\">\n",
              "    <g>\n",
              "        <path d=\"M19 3H5c-1.1 0-2 .9-2 2v14c0 1.1.9 2 2 2h14c1.1 0 2-.9 2-2V5c0-1.1-.9-2-2-2zM9 17H7v-7h2v7zm4 0h-2V7h2v10zm4 0h-2v-4h2v4z\"/>\n",
              "    </g>\n",
              "</svg>\n",
              "  </button>\n",
              "\n",
              "<style>\n",
              "  .colab-df-quickchart {\n",
              "      --bg-color: #E8F0FE;\n",
              "      --fill-color: #1967D2;\n",
              "      --hover-bg-color: #E2EBFA;\n",
              "      --hover-fill-color: #174EA6;\n",
              "      --disabled-fill-color: #AAA;\n",
              "      --disabled-bg-color: #DDD;\n",
              "  }\n",
              "\n",
              "  [theme=dark] .colab-df-quickchart {\n",
              "      --bg-color: #3B4455;\n",
              "      --fill-color: #D2E3FC;\n",
              "      --hover-bg-color: #434B5C;\n",
              "      --hover-fill-color: #FFFFFF;\n",
              "      --disabled-bg-color: #3B4455;\n",
              "      --disabled-fill-color: #666;\n",
              "  }\n",
              "\n",
              "  .colab-df-quickchart {\n",
              "    background-color: var(--bg-color);\n",
              "    border: none;\n",
              "    border-radius: 50%;\n",
              "    cursor: pointer;\n",
              "    display: none;\n",
              "    fill: var(--fill-color);\n",
              "    height: 32px;\n",
              "    padding: 0;\n",
              "    width: 32px;\n",
              "  }\n",
              "\n",
              "  .colab-df-quickchart:hover {\n",
              "    background-color: var(--hover-bg-color);\n",
              "    box-shadow: 0 1px 2px rgba(60, 64, 67, 0.3), 0 1px 3px 1px rgba(60, 64, 67, 0.15);\n",
              "    fill: var(--button-hover-fill-color);\n",
              "  }\n",
              "\n",
              "  .colab-df-quickchart-complete:disabled,\n",
              "  .colab-df-quickchart-complete:disabled:hover {\n",
              "    background-color: var(--disabled-bg-color);\n",
              "    fill: var(--disabled-fill-color);\n",
              "    box-shadow: none;\n",
              "  }\n",
              "\n",
              "  .colab-df-spinner {\n",
              "    border: 2px solid var(--fill-color);\n",
              "    border-color: transparent;\n",
              "    border-bottom-color: var(--fill-color);\n",
              "    animation:\n",
              "      spin 1s steps(1) infinite;\n",
              "  }\n",
              "\n",
              "  @keyframes spin {\n",
              "    0% {\n",
              "      border-color: transparent;\n",
              "      border-bottom-color: var(--fill-color);\n",
              "      border-left-color: var(--fill-color);\n",
              "    }\n",
              "    20% {\n",
              "      border-color: transparent;\n",
              "      border-left-color: var(--fill-color);\n",
              "      border-top-color: var(--fill-color);\n",
              "    }\n",
              "    30% {\n",
              "      border-color: transparent;\n",
              "      border-left-color: var(--fill-color);\n",
              "      border-top-color: var(--fill-color);\n",
              "      border-right-color: var(--fill-color);\n",
              "    }\n",
              "    40% {\n",
              "      border-color: transparent;\n",
              "      border-right-color: var(--fill-color);\n",
              "      border-top-color: var(--fill-color);\n",
              "    }\n",
              "    60% {\n",
              "      border-color: transparent;\n",
              "      border-right-color: var(--fill-color);\n",
              "    }\n",
              "    80% {\n",
              "      border-color: transparent;\n",
              "      border-right-color: var(--fill-color);\n",
              "      border-bottom-color: var(--fill-color);\n",
              "    }\n",
              "    90% {\n",
              "      border-color: transparent;\n",
              "      border-bottom-color: var(--fill-color);\n",
              "    }\n",
              "  }\n",
              "</style>\n",
              "\n",
              "  <script>\n",
              "    async function quickchart(key) {\n",
              "      const quickchartButtonEl =\n",
              "        document.querySelector('#' + key + ' button');\n",
              "      quickchartButtonEl.disabled = true;  // To prevent multiple clicks.\n",
              "      quickchartButtonEl.classList.add('colab-df-spinner');\n",
              "      try {\n",
              "        const charts = await google.colab.kernel.invokeFunction(\n",
              "            'suggestCharts', [key], {});\n",
              "      } catch (error) {\n",
              "        console.error('Error during call to suggestCharts:', error);\n",
              "      }\n",
              "      quickchartButtonEl.classList.remove('colab-df-spinner');\n",
              "      quickchartButtonEl.classList.add('colab-df-quickchart-complete');\n",
              "    }\n",
              "    (() => {\n",
              "      let quickchartButtonEl =\n",
              "        document.querySelector('#df-a016bbd4-1909-4987-bc49-c20b6017cb98 button');\n",
              "      quickchartButtonEl.style.display =\n",
              "        google.colab.kernel.accessAllowed ? 'block' : 'none';\n",
              "    })();\n",
              "  </script>\n",
              "</div>\n",
              "    </div>\n",
              "  </div>\n"
            ]
          },
          "metadata": {},
          "execution_count": 75
        }
      ]
    },
    {
      "cell_type": "code",
      "source": [],
      "metadata": {
        "id": "3dq-sGcXs22C"
      },
      "execution_count": null,
      "outputs": []
    },
    {
      "cell_type": "code",
      "source": [],
      "metadata": {
        "id": "bLIuHZcZs24j"
      },
      "execution_count": null,
      "outputs": []
    },
    {
      "cell_type": "code",
      "source": [
        "df.head()"
      ],
      "metadata": {
        "colab": {
          "base_uri": "https://localhost:8080/",
          "height": 308
        },
        "id": "5DDmNs63rVBd",
        "outputId": "97fcd829-4f2d-4840-f452-d32e8b9924c2"
      },
      "execution_count": null,
      "outputs": [
        {
          "output_type": "execute_result",
          "data": {
            "text/plain": [
              "       cui  caen  active imobilizate - total  \\\n",
              "0  1758080  4931                  16250707.0   \n",
              "1  1770555  2899                   4382308.0   \n",
              "2  1772076  1431                   3991824.0   \n",
              "3  1774336  4941                  21747409.0   \n",
              "4  2763904  1089                   3186213.0   \n",
              "\n",
              "   active circulante - total din care:     stocuri     creante  \\\n",
              "0                           12600287.0    922470.0  11449101.0   \n",
              "1                           13167071.0   6243032.0   3050034.0   \n",
              "2                           13670457.0   9949344.0   2795638.0   \n",
              "3                           12896215.0  10201046.0   1945071.0   \n",
              "4                           53223368.0  36399030.0   6481835.0   \n",
              "\n",
              "   casa si conturi la banci  cheltuieli in avans   datorii  venituri in avans  \\\n",
              "0                  228716.0             650906.0  27949623            21426.0   \n",
              "1                 3874005.0              25919.0   7307533                NaN   \n",
              "2                  925475.0              35908.0   6032140           486167.0   \n",
              "3                  750098.0                450.0   1258049                NaN   \n",
              "4                10342503.0              15708.0  23711439                NaN   \n",
              "\n",
              "   ...  capital subscris varsat  patrimoniul regiei  cifra de afaceri neta  \\\n",
              "0  ...                 210755.0                 NaN             39213937.0   \n",
              "1  ...                    720.0                 NaN             21480601.0   \n",
              "2  ...                3990125.0                 NaN             19048965.0   \n",
              "3  ...                  15000.0                 NaN             16695296.0   \n",
              "4  ...               17000000.0                 NaN             42440258.0   \n",
              "\n",
              "   venituri totale  cheltuieli totale  profitul brut  pierdere bruta  \\\n",
              "0       40326671.0         39905042.0       421629.0             0.0   \n",
              "1       21616592.0         18740693.0      2875899.0             0.0   \n",
              "2       21765244.0         21733706.0        31538.0             0.0   \n",
              "3       13086584.0         11190142.0      1896442.0             0.0   \n",
              "4       43968685.0         40528519.0      3440166.0             0.0   \n",
              "\n",
              "   profitul net  pierdere neta  numar mediu de salariati  \n",
              "0      274227.0            0.0                       NaN  \n",
              "1     2486912.0            0.0                      99.0  \n",
              "2       31538.0            0.0                     197.0  \n",
              "3     1645894.0            0.0                      19.0  \n",
              "4     3035703.0            0.0                      46.0  \n",
              "\n",
              "[5 rows x 22 columns]"
            ],
            "text/html": [
              "\n",
              "  <div id=\"df-e500befb-a838-49d7-b503-0891f5eb56db\" class=\"colab-df-container\">\n",
              "    <div>\n",
              "<style scoped>\n",
              "    .dataframe tbody tr th:only-of-type {\n",
              "        vertical-align: middle;\n",
              "    }\n",
              "\n",
              "    .dataframe tbody tr th {\n",
              "        vertical-align: top;\n",
              "    }\n",
              "\n",
              "    .dataframe thead th {\n",
              "        text-align: right;\n",
              "    }\n",
              "</style>\n",
              "<table border=\"1\" class=\"dataframe\">\n",
              "  <thead>\n",
              "    <tr style=\"text-align: right;\">\n",
              "      <th></th>\n",
              "      <th>cui</th>\n",
              "      <th>caen</th>\n",
              "      <th>active imobilizate - total</th>\n",
              "      <th>active circulante - total din care:</th>\n",
              "      <th>stocuri</th>\n",
              "      <th>creante</th>\n",
              "      <th>casa si conturi la banci</th>\n",
              "      <th>cheltuieli in avans</th>\n",
              "      <th>datorii</th>\n",
              "      <th>venituri in avans</th>\n",
              "      <th>...</th>\n",
              "      <th>capital subscris varsat</th>\n",
              "      <th>patrimoniul regiei</th>\n",
              "      <th>cifra de afaceri neta</th>\n",
              "      <th>venituri totale</th>\n",
              "      <th>cheltuieli totale</th>\n",
              "      <th>profitul brut</th>\n",
              "      <th>pierdere bruta</th>\n",
              "      <th>profitul net</th>\n",
              "      <th>pierdere neta</th>\n",
              "      <th>numar mediu de salariati</th>\n",
              "    </tr>\n",
              "  </thead>\n",
              "  <tbody>\n",
              "    <tr>\n",
              "      <th>0</th>\n",
              "      <td>1758080</td>\n",
              "      <td>4931</td>\n",
              "      <td>16250707.0</td>\n",
              "      <td>12600287.0</td>\n",
              "      <td>922470.0</td>\n",
              "      <td>11449101.0</td>\n",
              "      <td>228716.0</td>\n",
              "      <td>650906.0</td>\n",
              "      <td>27949623</td>\n",
              "      <td>21426.0</td>\n",
              "      <td>...</td>\n",
              "      <td>210755.0</td>\n",
              "      <td>NaN</td>\n",
              "      <td>39213937.0</td>\n",
              "      <td>40326671.0</td>\n",
              "      <td>39905042.0</td>\n",
              "      <td>421629.0</td>\n",
              "      <td>0.0</td>\n",
              "      <td>274227.0</td>\n",
              "      <td>0.0</td>\n",
              "      <td>NaN</td>\n",
              "    </tr>\n",
              "    <tr>\n",
              "      <th>1</th>\n",
              "      <td>1770555</td>\n",
              "      <td>2899</td>\n",
              "      <td>4382308.0</td>\n",
              "      <td>13167071.0</td>\n",
              "      <td>6243032.0</td>\n",
              "      <td>3050034.0</td>\n",
              "      <td>3874005.0</td>\n",
              "      <td>25919.0</td>\n",
              "      <td>7307533</td>\n",
              "      <td>NaN</td>\n",
              "      <td>...</td>\n",
              "      <td>720.0</td>\n",
              "      <td>NaN</td>\n",
              "      <td>21480601.0</td>\n",
              "      <td>21616592.0</td>\n",
              "      <td>18740693.0</td>\n",
              "      <td>2875899.0</td>\n",
              "      <td>0.0</td>\n",
              "      <td>2486912.0</td>\n",
              "      <td>0.0</td>\n",
              "      <td>99.0</td>\n",
              "    </tr>\n",
              "    <tr>\n",
              "      <th>2</th>\n",
              "      <td>1772076</td>\n",
              "      <td>1431</td>\n",
              "      <td>3991824.0</td>\n",
              "      <td>13670457.0</td>\n",
              "      <td>9949344.0</td>\n",
              "      <td>2795638.0</td>\n",
              "      <td>925475.0</td>\n",
              "      <td>35908.0</td>\n",
              "      <td>6032140</td>\n",
              "      <td>486167.0</td>\n",
              "      <td>...</td>\n",
              "      <td>3990125.0</td>\n",
              "      <td>NaN</td>\n",
              "      <td>19048965.0</td>\n",
              "      <td>21765244.0</td>\n",
              "      <td>21733706.0</td>\n",
              "      <td>31538.0</td>\n",
              "      <td>0.0</td>\n",
              "      <td>31538.0</td>\n",
              "      <td>0.0</td>\n",
              "      <td>197.0</td>\n",
              "    </tr>\n",
              "    <tr>\n",
              "      <th>3</th>\n",
              "      <td>1774336</td>\n",
              "      <td>4941</td>\n",
              "      <td>21747409.0</td>\n",
              "      <td>12896215.0</td>\n",
              "      <td>10201046.0</td>\n",
              "      <td>1945071.0</td>\n",
              "      <td>750098.0</td>\n",
              "      <td>450.0</td>\n",
              "      <td>1258049</td>\n",
              "      <td>NaN</td>\n",
              "      <td>...</td>\n",
              "      <td>15000.0</td>\n",
              "      <td>NaN</td>\n",
              "      <td>16695296.0</td>\n",
              "      <td>13086584.0</td>\n",
              "      <td>11190142.0</td>\n",
              "      <td>1896442.0</td>\n",
              "      <td>0.0</td>\n",
              "      <td>1645894.0</td>\n",
              "      <td>0.0</td>\n",
              "      <td>19.0</td>\n",
              "    </tr>\n",
              "    <tr>\n",
              "      <th>4</th>\n",
              "      <td>2763904</td>\n",
              "      <td>1089</td>\n",
              "      <td>3186213.0</td>\n",
              "      <td>53223368.0</td>\n",
              "      <td>36399030.0</td>\n",
              "      <td>6481835.0</td>\n",
              "      <td>10342503.0</td>\n",
              "      <td>15708.0</td>\n",
              "      <td>23711439</td>\n",
              "      <td>NaN</td>\n",
              "      <td>...</td>\n",
              "      <td>17000000.0</td>\n",
              "      <td>NaN</td>\n",
              "      <td>42440258.0</td>\n",
              "      <td>43968685.0</td>\n",
              "      <td>40528519.0</td>\n",
              "      <td>3440166.0</td>\n",
              "      <td>0.0</td>\n",
              "      <td>3035703.0</td>\n",
              "      <td>0.0</td>\n",
              "      <td>46.0</td>\n",
              "    </tr>\n",
              "  </tbody>\n",
              "</table>\n",
              "<p>5 rows × 22 columns</p>\n",
              "</div>\n",
              "    <div class=\"colab-df-buttons\">\n",
              "\n",
              "  <div class=\"colab-df-container\">\n",
              "    <button class=\"colab-df-convert\" onclick=\"convertToInteractive('df-e500befb-a838-49d7-b503-0891f5eb56db')\"\n",
              "            title=\"Convert this dataframe to an interactive table.\"\n",
              "            style=\"display:none;\">\n",
              "\n",
              "  <svg xmlns=\"http://www.w3.org/2000/svg\" height=\"24px\" viewBox=\"0 -960 960 960\">\n",
              "    <path d=\"M120-120v-720h720v720H120Zm60-500h600v-160H180v160Zm220 220h160v-160H400v160Zm0 220h160v-160H400v160ZM180-400h160v-160H180v160Zm440 0h160v-160H620v160ZM180-180h160v-160H180v160Zm440 0h160v-160H620v160Z\"/>\n",
              "  </svg>\n",
              "    </button>\n",
              "\n",
              "  <style>\n",
              "    .colab-df-container {\n",
              "      display:flex;\n",
              "      gap: 12px;\n",
              "    }\n",
              "\n",
              "    .colab-df-convert {\n",
              "      background-color: #E8F0FE;\n",
              "      border: none;\n",
              "      border-radius: 50%;\n",
              "      cursor: pointer;\n",
              "      display: none;\n",
              "      fill: #1967D2;\n",
              "      height: 32px;\n",
              "      padding: 0 0 0 0;\n",
              "      width: 32px;\n",
              "    }\n",
              "\n",
              "    .colab-df-convert:hover {\n",
              "      background-color: #E2EBFA;\n",
              "      box-shadow: 0px 1px 2px rgba(60, 64, 67, 0.3), 0px 1px 3px 1px rgba(60, 64, 67, 0.15);\n",
              "      fill: #174EA6;\n",
              "    }\n",
              "\n",
              "    .colab-df-buttons div {\n",
              "      margin-bottom: 4px;\n",
              "    }\n",
              "\n",
              "    [theme=dark] .colab-df-convert {\n",
              "      background-color: #3B4455;\n",
              "      fill: #D2E3FC;\n",
              "    }\n",
              "\n",
              "    [theme=dark] .colab-df-convert:hover {\n",
              "      background-color: #434B5C;\n",
              "      box-shadow: 0px 1px 3px 1px rgba(0, 0, 0, 0.15);\n",
              "      filter: drop-shadow(0px 1px 2px rgba(0, 0, 0, 0.3));\n",
              "      fill: #FFFFFF;\n",
              "    }\n",
              "  </style>\n",
              "\n",
              "    <script>\n",
              "      const buttonEl =\n",
              "        document.querySelector('#df-e500befb-a838-49d7-b503-0891f5eb56db button.colab-df-convert');\n",
              "      buttonEl.style.display =\n",
              "        google.colab.kernel.accessAllowed ? 'block' : 'none';\n",
              "\n",
              "      async function convertToInteractive(key) {\n",
              "        const element = document.querySelector('#df-e500befb-a838-49d7-b503-0891f5eb56db');\n",
              "        const dataTable =\n",
              "          await google.colab.kernel.invokeFunction('convertToInteractive',\n",
              "                                                    [key], {});\n",
              "        if (!dataTable) return;\n",
              "\n",
              "        const docLinkHtml = 'Like what you see? Visit the ' +\n",
              "          '<a target=\"_blank\" href=https://colab.research.google.com/notebooks/data_table.ipynb>data table notebook</a>'\n",
              "          + ' to learn more about interactive tables.';\n",
              "        element.innerHTML = '';\n",
              "        dataTable['output_type'] = 'display_data';\n",
              "        await google.colab.output.renderOutput(dataTable, element);\n",
              "        const docLink = document.createElement('div');\n",
              "        docLink.innerHTML = docLinkHtml;\n",
              "        element.appendChild(docLink);\n",
              "      }\n",
              "    </script>\n",
              "  </div>\n",
              "\n",
              "\n",
              "<div id=\"df-33dba7ac-1dc3-435c-bb8c-397e4186bb96\">\n",
              "  <button class=\"colab-df-quickchart\" onclick=\"quickchart('df-33dba7ac-1dc3-435c-bb8c-397e4186bb96')\"\n",
              "            title=\"Suggest charts.\"\n",
              "            style=\"display:none;\">\n",
              "\n",
              "<svg xmlns=\"http://www.w3.org/2000/svg\" height=\"24px\"viewBox=\"0 0 24 24\"\n",
              "     width=\"24px\">\n",
              "    <g>\n",
              "        <path d=\"M19 3H5c-1.1 0-2 .9-2 2v14c0 1.1.9 2 2 2h14c1.1 0 2-.9 2-2V5c0-1.1-.9-2-2-2zM9 17H7v-7h2v7zm4 0h-2V7h2v10zm4 0h-2v-4h2v4z\"/>\n",
              "    </g>\n",
              "</svg>\n",
              "  </button>\n",
              "\n",
              "<style>\n",
              "  .colab-df-quickchart {\n",
              "      --bg-color: #E8F0FE;\n",
              "      --fill-color: #1967D2;\n",
              "      --hover-bg-color: #E2EBFA;\n",
              "      --hover-fill-color: #174EA6;\n",
              "      --disabled-fill-color: #AAA;\n",
              "      --disabled-bg-color: #DDD;\n",
              "  }\n",
              "\n",
              "  [theme=dark] .colab-df-quickchart {\n",
              "      --bg-color: #3B4455;\n",
              "      --fill-color: #D2E3FC;\n",
              "      --hover-bg-color: #434B5C;\n",
              "      --hover-fill-color: #FFFFFF;\n",
              "      --disabled-bg-color: #3B4455;\n",
              "      --disabled-fill-color: #666;\n",
              "  }\n",
              "\n",
              "  .colab-df-quickchart {\n",
              "    background-color: var(--bg-color);\n",
              "    border: none;\n",
              "    border-radius: 50%;\n",
              "    cursor: pointer;\n",
              "    display: none;\n",
              "    fill: var(--fill-color);\n",
              "    height: 32px;\n",
              "    padding: 0;\n",
              "    width: 32px;\n",
              "  }\n",
              "\n",
              "  .colab-df-quickchart:hover {\n",
              "    background-color: var(--hover-bg-color);\n",
              "    box-shadow: 0 1px 2px rgba(60, 64, 67, 0.3), 0 1px 3px 1px rgba(60, 64, 67, 0.15);\n",
              "    fill: var(--button-hover-fill-color);\n",
              "  }\n",
              "\n",
              "  .colab-df-quickchart-complete:disabled,\n",
              "  .colab-df-quickchart-complete:disabled:hover {\n",
              "    background-color: var(--disabled-bg-color);\n",
              "    fill: var(--disabled-fill-color);\n",
              "    box-shadow: none;\n",
              "  }\n",
              "\n",
              "  .colab-df-spinner {\n",
              "    border: 2px solid var(--fill-color);\n",
              "    border-color: transparent;\n",
              "    border-bottom-color: var(--fill-color);\n",
              "    animation:\n",
              "      spin 1s steps(1) infinite;\n",
              "  }\n",
              "\n",
              "  @keyframes spin {\n",
              "    0% {\n",
              "      border-color: transparent;\n",
              "      border-bottom-color: var(--fill-color);\n",
              "      border-left-color: var(--fill-color);\n",
              "    }\n",
              "    20% {\n",
              "      border-color: transparent;\n",
              "      border-left-color: var(--fill-color);\n",
              "      border-top-color: var(--fill-color);\n",
              "    }\n",
              "    30% {\n",
              "      border-color: transparent;\n",
              "      border-left-color: var(--fill-color);\n",
              "      border-top-color: var(--fill-color);\n",
              "      border-right-color: var(--fill-color);\n",
              "    }\n",
              "    40% {\n",
              "      border-color: transparent;\n",
              "      border-right-color: var(--fill-color);\n",
              "      border-top-color: var(--fill-color);\n",
              "    }\n",
              "    60% {\n",
              "      border-color: transparent;\n",
              "      border-right-color: var(--fill-color);\n",
              "    }\n",
              "    80% {\n",
              "      border-color: transparent;\n",
              "      border-right-color: var(--fill-color);\n",
              "      border-bottom-color: var(--fill-color);\n",
              "    }\n",
              "    90% {\n",
              "      border-color: transparent;\n",
              "      border-bottom-color: var(--fill-color);\n",
              "    }\n",
              "  }\n",
              "</style>\n",
              "\n",
              "  <script>\n",
              "    async function quickchart(key) {\n",
              "      const quickchartButtonEl =\n",
              "        document.querySelector('#' + key + ' button');\n",
              "      quickchartButtonEl.disabled = true;  // To prevent multiple clicks.\n",
              "      quickchartButtonEl.classList.add('colab-df-spinner');\n",
              "      try {\n",
              "        const charts = await google.colab.kernel.invokeFunction(\n",
              "            'suggestCharts', [key], {});\n",
              "      } catch (error) {\n",
              "        console.error('Error during call to suggestCharts:', error);\n",
              "      }\n",
              "      quickchartButtonEl.classList.remove('colab-df-spinner');\n",
              "      quickchartButtonEl.classList.add('colab-df-quickchart-complete');\n",
              "    }\n",
              "    (() => {\n",
              "      let quickchartButtonEl =\n",
              "        document.querySelector('#df-33dba7ac-1dc3-435c-bb8c-397e4186bb96 button');\n",
              "      quickchartButtonEl.style.display =\n",
              "        google.colab.kernel.accessAllowed ? 'block' : 'none';\n",
              "    })();\n",
              "  </script>\n",
              "</div>\n",
              "    </div>\n",
              "  </div>\n"
            ]
          },
          "metadata": {},
          "execution_count": 19
        }
      ]
    },
    {
      "cell_type": "code",
      "source": [],
      "metadata": {
        "id": "3frJIBdGf6Qd"
      },
      "execution_count": null,
      "outputs": []
    },
    {
      "cell_type": "code",
      "source": [],
      "metadata": {
        "id": "Qf5I9a-6f6TA"
      },
      "execution_count": null,
      "outputs": []
    },
    {
      "cell_type": "code",
      "source": [],
      "metadata": {
        "id": "biqpXptZf5je"
      },
      "execution_count": null,
      "outputs": []
    },
    {
      "cell_type": "code",
      "source": [],
      "metadata": {
        "id": "HAlFtefcgUWo"
      },
      "execution_count": null,
      "outputs": []
    },
    {
      "cell_type": "code",
      "source": [],
      "metadata": {
        "id": "4XeuohV5gUZT"
      },
      "execution_count": null,
      "outputs": []
    },
    {
      "cell_type": "code",
      "source": [],
      "metadata": {
        "id": "RuKrsH67f5mF"
      },
      "execution_count": null,
      "outputs": []
    },
    {
      "cell_type": "code",
      "source": [
        "# column_mask = ['CUI', 'Cifra de afaceri neta;i13', 'DATORII;i7','Profitul brut;i16','Pierdere bruta;i17', 'Profitul net;i18', 'Pierdere neta;i19']\n",
        "df.shape"
      ],
      "metadata": {
        "id": "HCmqXeXXfE0P"
      },
      "execution_count": null,
      "outputs": []
    },
    {
      "cell_type": "code",
      "source": [],
      "metadata": {
        "id": "CPv9kq6BfE3H"
      },
      "execution_count": null,
      "outputs": []
    },
    {
      "cell_type": "code",
      "source": [],
      "metadata": {
        "id": "UUBcIb6mfE6P"
      },
      "execution_count": null,
      "outputs": []
    }
  ]
}